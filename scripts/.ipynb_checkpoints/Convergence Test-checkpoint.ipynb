{
 "cells": [
  {
   "cell_type": "code",
   "execution_count": 74,
   "metadata": {},
   "outputs": [
    {
     "data": {
      "text/plain": [
       "1.7592260566545566"
      ]
     },
     "execution_count": 74,
     "metadata": {},
     "output_type": "execute_result"
    }
   ],
   "source": [
    "using AugmentedGaussianProcesses; const AGP = AugmentedGaussianProcesses\n",
    "using Statistics, ForwardDiff\n",
    "using MLDataUtils, CSV, LinearAlgebra, LaTeXStrings, SpecialFunctions\n",
    "using DrWatson\n",
    "quickactivate(joinpath(@__DIR__,\"..\"))\n",
    "include(joinpath(srcdir(),\"intro.jl\"))\n",
    "\n",
    "## Parameters and data\n",
    "nSamples = 100;\n",
    "nChains = 5;\n",
    "data = Matrix(CSV.read(joinpath(datadir(),\"exp_raw/housing.csv\"),header=false))\n",
    "pointsused = 1:150\n",
    "y = data[pointsused,1]; X = data[pointsused,2:end]; (N,nDim) = size(X)\n",
    "l = initial_lengthscale(X)"
   ]
  },
  {
   "cell_type": "code",
   "execution_count": 75,
   "metadata": {},
   "outputs": [
    {
     "data": {
      "text/plain": [
       "cb (generic function with 1 method)"
      ]
     },
     "execution_count": 75,
     "metadata": {},
     "output_type": "execute_result"
    }
   ],
   "source": [
    "kernel = RBFKernel(l)\n",
    "K = AugmentedGaussianProcesses.kernelmatrix(X,kernel)+1e-4*I\n",
    "burnin=1\n",
    "ν = 10.0; likelihood = StudentTLikelihood(ν); noisegen = TDist(ν); lname=\"StudentT\"\n",
    "# likelihood = LaplaceLikelihood(); noisegen = Laplace(); lname = \"Laplace\";\n",
    "# likelihood = LogisticLikelihood(); noisegen = Normal(); lname = \"Logistic\"\n",
    "if lname == \"Laplace\"\n",
    "    global b = 1.0\n",
    "    global C()=1/(2b)\n",
    "    global g(y) = 0.0\n",
    "    global α(y) = y^2\n",
    "    global β(y) = 2*y\n",
    "    global γ(y) = 1.0\n",
    "    global φ(r) = exp(-sqrt(r)/b)\n",
    "    global ∇φ(r) = -exp(-sqrt(r)/b)/(2*b*sqrt(r))\n",
    "    global ll(y,x) = 1/(2b)*exp(-abs(y-x)/b)\n",
    "elseif lname == \"StudentT\"\n",
    "    global C()= gamma(0.5*(ν+1))/(sqrt(ν*π)*gamma(0.5*ν))\n",
    "    global g(y) = 0.0\n",
    "    global α(y) = y^2\n",
    "    global β(y) = 2*y\n",
    "    global γ(y) = 1.0\n",
    "    global φ(r) = (1+r/ν)^(-0.5*(ν+1))\n",
    "    global ∇φ(r) = -(0.5*(1+ν)/ν)*(1+r/ν)^(-0.5*(ν+1)-1)\n",
    "    global ll(y,x) = pdf(LocationScale(y,1.0,TDist(ν)),x)\n",
    "elseif lname == \"Logistic\"\n",
    "    global C()= 0.5\n",
    "    global g(y) = 0.5*y\n",
    "    global α(y) = 0.0\n",
    "    global β(y) = 0.0\n",
    "    global γ(y) = 1.0\n",
    "    global φ(r) = sech.(0.5*sqrt.(r))\n",
    "    global ∇φ(r) = -0.25*(sech.(0.5*sqrt.(r))*tanh.(0.5*sqrt.(r)))/(sqrt.(r))\n",
    "    global ll(y,x) = logistic(y*x)\n",
    "end\n",
    "AGP.@augmodel(St,Regression,C,g,α,β, γ, φ, ∇φ)\n",
    "\n",
    "Statistics.var(::StLikelihood) = ν/(ν-2.0)\n",
    "\n",
    "AGP.@augmodel(La,Regression,C,g,α,β, γ, φ, ∇φ)\n",
    "\n",
    "Statistics.var(::LaLikelihood) = 2*b^2\n",
    "\n",
    "var(StLikelihood())\n",
    "function AGP.grad_quad(likelihood::LaLikelihood{T},y::Real,μ::Real,σ²::Real,inference::Inference) where {T<:Real}\n",
    "    nodes = inference.nodes*sqrt2*sqrt(σ²) .+ μ\n",
    "    Edlogpdf = dot(inference.weights,AGP.grad_log_pdf.(likelihood,y,nodes))\n",
    "    Ed²logpdf =  zero(T)#1/(b * sqrt(twoπ*σ²))\n",
    "    return -Edlogpdf::T, Ed²logpdf::T\n",
    "end\n",
    "AGP.@augmodel(Lo,Classification,C,g,α,β, γ, φ, ∇φ)\n",
    "\n",
    "AGP.hessian_log_pdf(::LoLikelihood{T},y::Real,f::Real) where {T<:Real} = -exp(y*f)/AGP.logistic(-y*f)^2\n",
    "\n",
    "AGP.grad_log_pdf(::LoLikelihood{T},y::Real,f::Real) where {T<:Real} = y*AGP.logistic(-y*f)\n",
    "\n",
    "##\n",
    "if lname == \"Logistic\"\n",
    "    global genlikelihood = LoLikelihood()\n",
    "elseif lname == \"Laplace\"\n",
    "    global genlikelihood = LaLikelihood()\n",
    "elseif lname == \"StudentT\"\n",
    "    global genlikelihood = StLikelihood()\n",
    "end\n",
    "\n",
    "\n",
    "nIter = 50\n",
    "eta1 = zeros(N,nIter)\n",
    "eta2 = zeros(N,N,nIter)\n",
    "function cb(model,iter)\n",
    "    eta1[:,iter+1] = model.η₁[1]\n",
    "    eta2[:,:,iter+1] = model.η₂[1]\n",
    "end"
   ]
  },
  {
   "cell_type": "code",
   "execution_count": 76,
   "metadata": {},
   "outputs": [
    {
     "name": "stdout",
     "output_type": "stream",
     "text": [
      "Starting training Variational Gaussian Process with a Generic Likelihood infered by Analytic Variational Inference  with 150 samples with 13 features and 1 latent GP"
     ]
    },
    {
     "name": "stderr",
     "output_type": "stream",
     "text": [
      "\r",
      "\u001b[32mTraining Progress:   2%|█                               |  ETA: 0:00:33\u001b[39m\n",
      "\u001b[34m  iter:  1\u001b[39m\n",
      "\u001b[34m  ELBO:  -3209.7656250582977\u001b[39m\r",
      "\u001b[A\r",
      "\u001b[A"
     ]
    },
    {
     "name": "stdout",
     "output_type": "stream",
     "text": [
      "\n"
     ]
    },
    {
     "name": "stderr",
     "output_type": "stream",
     "text": [
      "\n",
      "\n",
      "\u001b[32mTraining Progress:  48%|████████████████                |  ETA: 0:00:01\u001b[39m\n",
      "\u001b[34m  iter:  24\u001b[39m\n",
      "\u001b[A4m  ELBO:  -3206.475230044134\u001b[39m\n",
      "\n",
      "\u001b[32mTraining Progress:  86%|████████████████████████████    |  ETA: 0:00:00\u001b[39m\n",
      "\u001b[34m  iter:  43\u001b[39m\n",
      "\u001b[A4m  ELBO:  -3206.475230044134\u001b[39m\n",
      "\n",
      "\u001b[32mTraining Progress: 100%|████████████████████████████████| Time: 0:00:01\u001b[39m\n",
      "\u001b[34m  iter:  50\u001b[39m\n",
      "\u001b[34m  ELBO:  -3206.475230044134\u001b[39m\n"
     ]
    },
    {
     "name": "stdout",
     "output_type": "stream",
     "text": [
      "Training ended after 50 iterations. Total number of iterations 50\n"
     ]
    },
    {
     "data": {
      "text/plain": [
       "true"
      ]
     },
     "execution_count": 76,
     "metadata": {},
     "output_type": "execute_result"
    }
   ],
   "source": [
    "amodel = VGP(X,y,RBFKernel(0.1),genlikelihood,AnalyticVI(),verbose=3,optimizer=false)\n",
    "train!(amodel,iterations=nIter,callback=cb)"
   ]
  },
  {
   "cell_type": "code",
   "execution_count": 96,
   "metadata": {},
   "outputs": [],
   "source": [
    "varω = zeros(N)\n",
    "\n",
    "function varomega(c)\n",
    "    ForwardDiff.gradient(x->∇φ(x[1]),[c])[1]/φ(c) - (∇φ(c)/φ(c))^2\n",
    "end\n",
    "\n",
    "for (i,r) in enumerate(amodel.likelihood.c²[1])\n",
    "    varω[i] = varomega(r)\n",
    "end\n",
    "\n",
    "diffeta1 = eta1.-amodel.η₁[1];\n",
    "diffeta2 = eta2.-amodel.η₂[1];\n",
    "convergence_matrix_eta1 = 2*Diagonal(β(y))*Diagonal(varω)*Diagonal(amodel.μ[1])*amodel.Σ[1];\n",
    "convergence_matrix_eta2 = zeros(N,N,N);\n",
    "for i in 1:N, j in 1:N, k in 1:N\n",
    "    convergence_matrix_eta2[i,j,k] = 2*γ(y[i])*varω[i]*amodel.Σ[1][j,i]*(amodel.Σ[1][i,k]+amodel.μ[1][i]*amodel.μ[1][k])\n",
    "end"
   ]
  },
  {
   "cell_type": "code",
   "execution_count": null,
   "metadata": {},
   "outputs": [],
   "source": [
    "eps_0_eta1 = diffeta1[:,1]\n",
    "eps_tmax_eta1 = zeros(nIter);\n",
    "eps_tmean_eta1 = zeros(nIter);\n",
    "eps_0_eta2 = diffeta2[:,:,1]\n",
    "eps_tmax_eta2 = zeros(nIter);\n",
    "eps_tmean_eta2 = zeros(nIter);\n",
    "for i in 1:nIter\n",
    "    i%10 == 0 ? @info(\"iteration $i\") : nothing\n",
    "    eps_tmax_eta1[i] = maximum(abs.(eps_0_eta1))\n",
    "    eps_tmax_eta2[i] = maximum(abs.(eps_0_eta2))\n",
    "    eps_tmean_eta1[i] = norm(eps_0_eta1)\n",
    "    eps_tmean_eta2[i] = norm(eps_0_eta2)\n",
    "    global eps_0_eta1 = convergence_matrix_eta1*eps_0_eta1\n",
    "    eps_0_eta2_old = copy(eps_0_eta2)\n",
    "    for j in 1:N, k in 1:N\n",
    "        eps_0_eta2[j,k] = sum(convergence_matrix_eta2[i,j,k]*eps_0_eta2_old[j,k] for i in 1:N)\n",
    "    end\n",
    "end\n",
    "# lambda_mu = maximum(eigen(convergence_matrix_eta1).values);"
   ]
  },
  {
   "cell_type": "code",
   "execution_count": null,
   "metadata": {},
   "outputs": [],
   "source": [
    "using Plots\n",
    "##\n",
    "default(lw=3.0,legend=:bottom)\n",
    "maxdiffeta1 = maximum.(abs,eachcol(diffeta1))\n",
    "maxdiffeta1 = maxdiffeta1[maxdiffeta1.!=0]\n",
    "p1 = plot(1:length(maxdiffeta1),maxdiffeta1,lab=\"Max Error eta 1\",yaxis=:log,xlabel=\"t\",ylabel=L\"\\max(|\\eta_1^t-\\eta_1^*|)\")\n",
    "plot!(1:nIter,eps_tmax_eta1,lab=\"Max Bound\")\n",
    "##\n",
    "meandiffeta1 = norm.(eachcol(diffeta1))\n",
    "meandiffeta1 = meandiffeta1[meandiffeta1.!=0]\n",
    "p2 = plot(1:length(meandiffeta1),meandiffeta1,lab=\"Mean Error eta 1\",yaxis=:log,xlabel=\"t\",ylabel=L\"||\\eta_1^t-\\eta_1^*||\")\n",
    "plot!(1:nIter,eps_tmean_eta1,lab=\"Mean Bound\")\n",
    "\n",
    "plot(p1,p2) |> display\n",
    "# plot!(1:nIter,maximum(eachcol(diffmu)),lab=\"Error sigma\")\n",
    "\n",
    "##\n",
    "\n",
    "maxdiffeta2 = maximum.(abs,[diffeta2[:,:,i] for i in 1:nIter])\n",
    "maxdiffeta2 = maxdiffeta2[maxdiffeta2.!=0]\n",
    "p3 = plot(1:length(maxdiffeta2),maxdiffeta2,lab=\"Max Error eta 2\",yaxis=:log,xlabel=\"t\",ylabel=L\"\\max(|\\eta_2^t-\\eta_2^*|)\")\n",
    "plot!(1:nIter,eps_tmax_eta2,lab=\"Max Bound\")\n",
    "\n",
    "##\n",
    "meandiffeta2 = norm.([diffeta2[:,:,i] for i in 1:nIter])\n",
    "meandiffeta2 = meandiffeta2[meandiffeta2.!=0]\n",
    "p4 = plot(1:length(meandiffeta2),meandiffeta2,lab=\"Mean Error eta 2\",yaxis=:log,xlabel=\"t\",ylabel=L\"||\\eta_2^t-\\eta_2^*||\")\n",
    "plot!(1:nIter,eps_tmean_eta2,lab=\"Mean Bound\")\n",
    "plot(p3,p4) |> display\n",
    "plot(p1,p2,p3,p4)\n"
   ]
  },
  {
   "cell_type": "code",
   "execution_count": 16,
   "metadata": {},
   "outputs": [],
   "source": [
    "savefig(\"Convergence.png\")"
   ]
  },
  {
   "cell_type": "code",
   "execution_count": null,
   "metadata": {},
   "outputs": [],
   "source": []
  }
 ],
 "metadata": {
  "@webio": {
   "lastCommId": null,
   "lastKernelId": null
  },
  "kernelspec": {
   "display_name": "Julia 1.1.0",
   "language": "julia",
   "name": "julia-1.1"
  },
  "language_info": {
   "file_extension": ".jl",
   "mimetype": "application/julia",
   "name": "julia",
   "version": "1.1.0"
  }
 },
 "nbformat": 4,
 "nbformat_minor": 2
}
